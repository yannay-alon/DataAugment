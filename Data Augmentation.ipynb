{
 "cells": [
  {
   "cell_type": "markdown",
   "id": "e79278017071ddda",
   "metadata": {
    "collapsed": false,
    "jupyter": {
     "outputs_hidden": false
    }
   },
   "source": [
    "# Basic Exploratory Data Analysis"
   ]
  },
  {
   "cell_type": "code",
   "execution_count": null,
   "id": "49d8593442c86142",
   "metadata": {
    "ExecuteTime": {
     "end_time": "2024-07-06T19:15:36.817114600Z",
     "start_time": "2024-07-06T19:15:35.208756700Z"
    },
    "jupyter": {
     "source_hidden": true
    }
   },
   "outputs": [],
   "source": [
    "# Import necessary libraries\n",
    "import os\n",
    "import numbers\n",
    "from copy import deepcopy\n",
    "from functools import partial\n",
    "from typing import Callable, Union, Optional, Any\n",
    "\n",
    "import pandas as pd\n",
    "from tabulate import tabulate\n",
    "import matplotlib.pyplot as plt\n",
    "import seaborn as sns\n",
    "import numpy as np\n",
    "from scipy import stats\n",
    "\n",
    "%pip install ipyfilechooser \n",
    "from ipyfilechooser import FileChooser\n",
    "from ipywidgets import interact, widgets\n",
    "from IPython.display import display\n",
    "\n",
    "# Set plotting styles\n",
    "sns.set(style=\"whitegrid\")"
   ]
  },
  {
   "cell_type": "markdown",
   "id": "27e5bc77be5a8152",
   "metadata": {
    "collapsed": false,
    "jupyter": {
     "outputs_hidden": false
    }
   },
   "source": [
    "## Graphing Functions"
   ]
  },
  {
   "cell_type": "code",
   "execution_count": 2,
   "id": "c2c67d9de4fc1b27",
   "metadata": {
    "ExecuteTime": {
     "end_time": "2024-07-06T19:15:39.993363800Z",
     "start_time": "2024-07-06T19:15:39.974859100Z"
    },
    "jupyter": {
     "source_hidden": true
    }
   },
   "outputs": [],
   "source": [
    "def display_basic_statistics(df: pd.DataFrame):\n",
    "    \"\"\"\n",
    "    Display basic statistics of the dataset: first 5 rows, summary statistics, dataset info, and missing values.\n",
    "    :param df: The dataset to display statistics for\n",
    "    :return: \n",
    "    \"\"\"\n",
    "    print(\"First 5 rows of the dataset:\")\n",
    "    print(df.head())\n",
    "\n",
    "    print(\"\\nSummary statistics for numeric columns:\")\n",
    "    print(df.describe())\n",
    "\n",
    "    print(\"\\nDataset info:\")\n",
    "    print(df.info())\n",
    "\n",
    "    print(\"\\nMissing values in each column:\")\n",
    "    print(df.isnull().sum())\n",
    "\n",
    "\n",
    "def plot_distributions(df: pd.DataFrame):\n",
    "    \"\"\"\n",
    "    Plot the distribution of each numeric and categorical columns in the dataset.\n",
    "    \n",
    "    :param df: The dataset to plot distributions for\n",
    "    :return: \n",
    "    \"\"\"\n",
    "    df = df.select_dtypes(include=[np.number, \"category\"])\n",
    "    num_rows = int(np.ceil(len(df.columns) ** 0.5))\n",
    "    num_cols = int(np.ceil(len(df.columns) / num_rows))\n",
    "    fig, axes = plt.subplots(num_rows, num_cols, figsize=(10 * num_cols, 6 * num_rows))\n",
    "    for ax, column in zip(axes.flat, df.columns):\n",
    "        if isinstance(df[column].dtype, pd.CategoricalDtype) or df[column].dtype == object:\n",
    "            sns.histplot(df[column], kde=False, bins=30, ax=ax)\n",
    "        else:\n",
    "            sns.histplot(df[column], kde=True, bins=30, ax=ax)\n",
    "        ax.set_title(f\"Distribution of {column}\")\n",
    "    plt.tight_layout()\n",
    "    plt.show()\n",
    "\n",
    "\n",
    "def plot_scatter_matrix(df: pd.DataFrame):\n",
    "    \"\"\"\n",
    "    Plot the scatter matrix of the numeric columns in the dataset.\n",
    "    \n",
    "    :param df: The dataset to plot the scatter matrix for\n",
    "    :return: \n",
    "    \"\"\"\n",
    "    num_cols = df.select_dtypes(include=[np.number]).columns\n",
    "    pd.plotting.scatter_matrix(df[num_cols], figsize=(15, 10), diagonal=\"kde\")\n",
    "    plt.suptitle(\"Scatter Matrix for Numeric Features\")\n",
    "    plt.tight_layout()\n",
    "    plt.show()\n",
    "\n",
    "\n",
    "def plot_boxplots(df: pd.DataFrame):\n",
    "    \"\"\"\n",
    "    Plot box plots for each numeric column in the dataset.\n",
    "    \n",
    "    :param df: The dataset to plot box plots for \n",
    "    :return: \n",
    "    \"\"\"\n",
    "    df = df.select_dtypes(include=[np.number])\n",
    "    plt.figure(figsize=(10, 6))\n",
    "    sns.boxplot(data=df)\n",
    "    plt.title(f\"Boxplot\")\n",
    "    plt.tight_layout()\n",
    "    plt.show()\n",
    "\n",
    "\n",
    "def plot_count_plots(df):\n",
    "    \"\"\"\n",
    "    Plot count plots for each categorical column in the dataset.\n",
    "    \n",
    "    :param df: The dataset to plot count plots for \n",
    "    :return: \n",
    "    \"\"\"\n",
    "    for column in df.columns:\n",
    "        if isinstance(df[column].dtype, pd.CategoricalDtype) or df[column].dtype == object:\n",
    "            plt.figure(figsize=(10, 6))\n",
    "            sns.countplot(y=df[column], order=df[column].value_counts().index)\n",
    "            plt.title(f\"Count plot of {column}\")\n",
    "            plt.tight_layout()\n",
    "            plt.show()\n",
    "\n",
    "\n",
    "def detect_outliers(df, threshold=3):\n",
    "    \"\"\"\n",
    "    Detect outliers in the dataset using a Z-test\n",
    "    \n",
    "    :param df: The dataset to detect outliers in\n",
    "    :param threshold: The threshold for the Z-test\n",
    "    :return: \n",
    "    \"\"\"\n",
    "    outliers = {}\n",
    "    for column in df.columns:\n",
    "        if pd.api.types.is_numeric_dtype(df[column]):\n",
    "            z_scores = np.abs(stats.zscore(df[column].dropna()))\n",
    "            outliers[column] = np.where(z_scores > threshold)[0]\n",
    "    return outliers"
   ]
  },
  {
   "cell_type": "code",
   "execution_count": 4,
   "id": "f398911d27cdc1fd",
   "metadata": {
    "ExecuteTime": {
     "end_time": "2024-07-06T19:15:40.507163700Z",
     "start_time": "2024-07-06T19:15:40.486164100Z"
    },
    "jupyter": {
     "source_hidden": true
    }
   },
   "outputs": [],
   "source": [
    "def exploratory_data_analysis(data):\n",
    "    display_basic_statistics(data)\n",
    "    plot_distributions(data)\n",
    "\n",
    "    print(\"Pair plot for numeric features:\")\n",
    "    sns.pairplot(data.select_dtypes(include=[np.number]))\n",
    "    plt.title(\"Pair Plot for Numeric Features\")\n",
    "    plt.tight_layout()\n",
    "    plt.show()\n",
    "\n",
    "    # Correlation matrix\n",
    "    print(\"Correlation matrix:\")\n",
    "    corr_matrix = data.select_dtypes(include=[np.number]).corr()\n",
    "    print(corr_matrix)\n",
    "\n",
    "    print(\"Plotting correlation heatmap:\")\n",
    "    plt.figure(figsize=(12, 8))\n",
    "    sns.heatmap(corr_matrix, annot=True, cmap=\"coolwarm\", linewidths=0.5)\n",
    "    plt.title(\"Correlation Matrix Heatmap\")\n",
    "    plt.tight_layout()\n",
    "    plt.show()\n",
    "\n",
    "    print(\"Plotting scatter matrix for numeric features:\")\n",
    "    plot_scatter_matrix(data)\n",
    "\n",
    "    print(\"Plotting boxplots for numeric features:\")\n",
    "    plot_boxplots(data)\n",
    "\n",
    "    print(\"Plotting count plots for categorical features:\")\n",
    "    plot_count_plots(data)\n",
    "\n",
    "    print(\"Detecting outliers using Z-score method:\")\n",
    "    outliers = detect_outliers(data)\n",
    "    print(outliers)\n",
    "\n",
    "    # Summary\n",
    "    print(\"\\nSummary of Exploratory Data Analysis:\")\n",
    "    print(f\"Dataset contains {data.shape[0]} rows and {data.shape[1]} columns.\")\n",
    "    print(f\"Numeric columns: {data.select_dtypes(include=[np.number]).columns.tolist()}\")\n",
    "    print(f\"Categorical columns: {data.select_dtypes(include=['object', 'category']).columns.tolist()}\")"
   ]
  },
  {
   "cell_type": "markdown",
   "id": "dd41817751f1df76",
   "metadata": {
    "collapsed": false,
    "jupyter": {
     "outputs_hidden": false
    }
   },
   "source": [
    "# Data Augmentation"
   ]
  },
  {
   "cell_type": "markdown",
   "id": "4ac5f00c2378f7df",
   "metadata": {
    "collapsed": false,
    "jupyter": {
     "outputs_hidden": false
    }
   },
   "source": [
    "## Data Loading"
   ]
  },
  {
   "cell_type": "code",
   "execution_count": 7,
   "id": "3c3361f11edb1532",
   "metadata": {
    "ExecuteTime": {
     "end_time": "2024-07-06T19:15:42.932025300Z",
     "start_time": "2024-07-06T19:15:42.882686100Z"
    },
    "jupyter": {
     "source_hidden": true
    }
   },
   "outputs": [
    {
     "data": {
      "application/vnd.jupyter.widget-view+json": {
       "model_id": "0491114a58bc4a97b597bae8ba267b6c",
       "version_major": 2,
       "version_minor": 0
      },
      "text/plain": [
       "VBox(children=(FileChooser(path='C:\\Users\\yanna\\PycharmProjects\\EDA', filename='', title='<h2>Select file to l…"
      ]
     },
     "metadata": {},
     "output_type": "display_data"
    }
   ],
   "source": [
    "data_frame = None\n",
    "def interactive_data_load(button, file_selection: str = None):\n",
    "    global data_frame\n",
    "    \n",
    "    with output:\n",
    "        output.clear_output()\n",
    "        if file_selection is None:\n",
    "            print(\"No file was chosen!\")\n",
    "            return\n",
    "\n",
    "        try:\n",
    "            data_frame = pd.read_csv(file_selection)\n",
    "            display(data_frame.head(5))\n",
    "        except FileNotFoundError:\n",
    "            print(f\"Cannot find the requested file:\\n\\t{file_selection}\")\n",
    "\n",
    "file_chooser = FileChooser(\n",
    "                title=\"<h2>Select file to load data</h2>\",\n",
    "                sandbox_path=os.getcwd(),\n",
    "                filter_pattern=\"*.csv\",\n",
    ")\n",
    "submit_button = widgets.Button(\n",
    "    description=\"Submit\",\n",
    "    icon=\"Check\"\n",
    ")\n",
    "output = widgets.Output()\n",
    "display_box = widgets.VBox([\n",
    "    file_chooser,\n",
    "    submit_button,\n",
    "    output\n",
    "])\n",
    "display(display_box)\n",
    "\n",
    "submit_button.on_click(lambda button: interactive_data_load(button, file_chooser.selected))"
   ]
  },
  {
   "cell_type": "code",
   "execution_count": 26,
   "id": "6f14b792-add2-4623-80bf-266dec8eaaa6",
   "metadata": {
    "ExecuteTime": {
     "end_time": "2024-07-06T19:15:59.542557600Z",
     "start_time": "2024-07-06T19:15:59.488042600Z"
    },
    "jupyter": {
     "source_hidden": true
    }
   },
   "outputs": [
    {
     "data": {
      "application/vnd.jupyter.widget-view+json": {
       "model_id": "c58e3d32b8d14b52a5fff42c35dad0c7",
       "version_major": 2,
       "version_minor": 0
      },
      "text/plain": [
       "Tab(children=(VBox(children=(Text(value='Age', description='New name: ', layout=Layout(height='auto', width='a…"
      ]
     },
     "metadata": {},
     "output_type": "display_data"
    },
    {
     "data": {
      "application/vnd.jupyter.widget-view+json": {
       "model_id": "d4968d76e7bd42798f3b6d0a7b77e562",
       "version_major": 2,
       "version_minor": 0
      },
      "text/plain": [
       "Output()"
      ]
     },
     "metadata": {},
     "output_type": "display_data"
    }
   ],
   "source": [
    "children_names = list(data_frame.columns)\n",
    "\n",
    "output = widgets.Output()\n",
    "\n",
    "@output.capture(clear_output=True)\n",
    "def update_information(column: str):\n",
    "    global data_frame\n",
    "    index = tab.selected_index\n",
    "    column = tab.titles[index]\n",
    "    \n",
    "    box = tab.children[index]\n",
    "    text, dropdown, missing_values, *_ = box.children\n",
    "\n",
    "    new_name = text.value\n",
    "    new_type = dropdown.value\n",
    "    missing_value_options = [option.strip() for option in missing_values.value.split(\",\")]\n",
    "\n",
    "    if new_name != \"\":\n",
    "        tab.set_title(index, new_name)\n",
    "        text.placeholder = new_name\n",
    "        text.value = new_name\n",
    "\n",
    "        data_frame = data_frame.rename(columns={column: new_name})\n",
    "        column = new_name\n",
    "    if len(missing_value_options) > 0:\n",
    "        data_frame[column] = data_frame[column].replace(missing_value_options, None)\n",
    "\n",
    "    if new_type == \"category\":\n",
    "        data_frame[column] = data_frame[column].astype(str)\n",
    "    data_frame[column] = data_frame[column].astype(new_type, errors=\"ignore\")\n",
    "\n",
    "    display(data_frame.head(5))\n",
    "\n",
    "texts = {}\n",
    "missing_values = {}\n",
    "dropdowns = {}\n",
    "buttons = {}\n",
    "for name in children_names:\n",
    "    buttons[name] = widgets.Button(\n",
    "        description=\"Update\",\n",
    "        icon=\"Check\"\n",
    "    )\n",
    "    buttons[name].on_click(lambda b: update_information(name))\n",
    "\n",
    "    dropdowns[name] = widgets.Dropdown(\n",
    "        options=[\"bool\", \"int\", \"float\", \"str\", \"category\", \"object\"],\n",
    "        description=\"Choose type: \",\n",
    "        value=data_frame[name].dtype,\n",
    "\n",
    "        layout=widgets.Layout(width=\"auto\", height=\"auto\"),\n",
    "        style={\"description_width\": \"auto\"},\n",
    "    )\n",
    "\n",
    "    texts[name] = widgets.Text(\n",
    "        description=\"New name: \",\n",
    "        placeholder=name,\n",
    "        value=name,\n",
    "\n",
    "        layout=widgets.Layout(width=\"auto\", height=\"auto\"),\n",
    "        style={\"description_width\": \"auto\"},\n",
    "    )\n",
    "\n",
    "    missing_values[name] = widgets.Text(\n",
    "        description=\"Missing values (separate by comma ','): \",\n",
    "        placeholder=\"NaN, -1, -\",\n",
    "        value=\"\",\n",
    "\n",
    "        layout=widgets.Layout(width=\"auto\", height=\"auto\"),\n",
    "        style={\"description_width\": \"auto\"},\n",
    "    )\n",
    "    \n",
    "\n",
    "tab = widgets.Tab()\n",
    "tab.children = [\n",
    "    widgets.VBox([\n",
    "        texts[name],\n",
    "        dropdowns[name],\n",
    "        missing_values[name],\n",
    "\n",
    "        buttons[name],\n",
    "    ])\n",
    "    for name in children_names\n",
    "]\n",
    "for index, name in enumerate(children_names):\n",
    "    tab.set_title(index, name)\n",
    "\n",
    "display(tab, output)"
   ]
  },
  {
   "cell_type": "markdown",
   "id": "a4b9c684e821fbb7",
   "metadata": {
    "collapsed": false,
    "jupyter": {
     "outputs_hidden": false
    }
   },
   "source": [
    "## Sample Augmentation"
   ]
  },
  {
   "cell_type": "code",
   "execution_count": 40,
   "id": "e15e7fd8b9361ab9",
   "metadata": {},
   "outputs": [],
   "source": [
    "def add_samples(data_frame: pd.DataFrame, num_samples: int, augmentation_factor: int,\n",
    "                noise_levels: dict[str, Union[float, np.ndarray]], category_options: dict[str, list]):\n",
    "    \"\"\"\n",
    "    Augment new samples\n",
    "\n",
    "    :param num_samples: The number of samples to base the augmentation on (negative for all)\n",
    "    :param augmentation_factor: The factor by which to augment the data\n",
    "    :param noise_levels: The level of noise for the augmentation for each feature\n",
    "    :return: The data with the added samples. Output size = num_samples * (augmentation_factor - 1) + len(data_frame)\n",
    "    \"\"\"\n",
    "    global matrix_output\n",
    "    \n",
    "    if num_samples < 0:\n",
    "        num_samples = len(data_frame)\n",
    "\n",
    "    # Select samples to augment\n",
    "    base_sample_indices = np.random.choice(len(data_frame), num_samples, replace=False)\n",
    "    base_sample_indices = np.tile(base_sample_indices, augmentation_factor)\n",
    "    base_samples = data_frame.iloc[base_sample_indices]\n",
    "\n",
    "    # Augment samples\n",
    "    augmented_samples = pd.DataFrame()\n",
    "    for column in data_frame.columns:\n",
    "        columns_type = data_frame[column].dtype\n",
    "        if column in noise_levels:\n",
    "            if isinstance(noise_levels[column], numbers.Number):\n",
    "                # Add Gaussian noise (for continuous features)\n",
    "                noise = np.random.normal(0, noise_levels[column], (num_samples * augmentation_factor,))\n",
    "                augmented_samples[column] = noise + base_samples[column].values\n",
    "            elif isinstance(noise_levels[column], np.ndarray):\n",
    "                # Random flips according to the flipping matrix (for categorical/binary features)\n",
    "                options = category_options[column]\n",
    "                weights = noise_levels[column] / noise_levels[column].sum(axis=1, keepdims=True)\n",
    "                noisy_values = base_samples[column].apply(lambda x: np.random.choice(options, p=weights[options.index(x)]))\n",
    "                augmented_samples[column] = noisy_values.values\n",
    "            augmented_samples[column] = augmented_samples[column].astype(columns_type)\n",
    "        else:\n",
    "            augmented_samples[column] = base_samples[column].values\n",
    "\n",
    "    # Remove original samples\n",
    "    data_frame = data_frame.drop(base_sample_indices)\n",
    "\n",
    "    # Add augmented samples\n",
    "    data_frame = pd.concat([data_frame, augmented_samples])\n",
    "\n",
    "    return data_frame"
   ]
  },
  {
   "cell_type": "code",
   "execution_count": 49,
   "id": "2ac1555e-e398-461f-a9ed-c2f8c85da6d5",
   "metadata": {},
   "outputs": [
    {
     "data": {
      "application/vnd.jupyter.widget-view+json": {
       "model_id": "098a7c31785d4d6d9d3c391669087923",
       "version_major": 2,
       "version_minor": 0
      },
      "text/plain": [
       "VBox(children=(IntSlider(value=100, description='Number of examples to use:', layout=Layout(height='auto', wid…"
      ]
     },
     "metadata": {},
     "output_type": "display_data"
    }
   ],
   "source": [
    "output = widgets.Output()\n",
    "\n",
    "@output.capture(clear_output=True)\n",
    "def interactive_sample_augmentation():\n",
    "    global data_frame, features\n",
    "    \n",
    "    source_samples = source_samples_count.value\n",
    "    requested_output_size = output_count.value\n",
    "    \n",
    "    augmentation_factor = int(np.ceil((requested_output_size - len(data_frame)) / source_samples) + 1)\n",
    "\n",
    "    noise_levels = deepcopy(matrix_data)\n",
    "    for column in data_frame.select_dtypes(exclude=[\"category\", \"bool\"]):\n",
    "        noise_levels[column] = 0.1 * data_frame[column].std()\n",
    "\n",
    "    data_frame = add_samples(data_frame, source_samples, augmentation_factor, noise_levels, features)[:requested_output_size]\n",
    "    \n",
    "    source_samples_count.max = len(data_frame)\n",
    "    source_samples_count.value = len(data_frame)\n",
    "    output_count.value = len(data_frame)\n",
    "\n",
    "    display(data_frame.head(10))\n",
    "\n",
    "source_samples_count = widgets.IntSlider(\n",
    "    value=len(data_frame),\n",
    "    min=1,\n",
    "    max=len(data_frame),\n",
    "    step=1,\n",
    "    description=\"Number of examples to use:\",\n",
    "    orientation=\"horizontal\",\n",
    "    readout=True,\n",
    "    readout_format=\"d\",\n",
    "\n",
    "    layout=widgets.Layout(width=\"auto\", height=\"auto\"),\n",
    "    style={\"description_width\": \"auto\"},\n",
    ")\n",
    "\n",
    "output_count = widgets.IntText(\n",
    "    value=len(data_frame),\n",
    "    description=\"Requested number for total samples:\",\n",
    "\n",
    "    layout=widgets.Layout(width=\"auto\", height=\"auto\"),\n",
    "    style={\"description_width\": \"auto\"},\n",
    ")\n",
    "\n",
    "submit_button = widgets.Button(\n",
    "    description=\"Augment Samples!\",\n",
    "    icon=\"Check\",\n",
    "    layout=widgets.Layout(width=\"auto\", margin=\"0 auto 0 auto\")\n",
    ")\n",
    "submit_button.on_click(lambda b: interactive_sample_augmentation())\n",
    "\n",
    "###################################################################################################\n",
    "\n",
    "features = {}\n",
    "for category in data_frame.select_dtypes(include=[\"category\"]):\n",
    "    features[category] = list(data_frame[category].unique().categories)\n",
    "for category in data_frame.select_dtypes(include=[\"bool\"]):\n",
    "    features[category] = [True, False]\n",
    "\n",
    "# Initialize matrix sizes and data for each feature based on its categories\n",
    "matrix_sizes = {feature: len(categories) for feature, categories in features.items()}\n",
    "matrix_data = {feature: np.eye(len(categories), dtype=float) for feature, categories in features.items()}\n",
    "\n",
    "# Function to create a matrix widget for a given feature\n",
    "def create_matrix_widget(size, categories, data):\n",
    "    rows = []\n",
    "    # Create a row with editable category names and matrix data inputs\n",
    "    for i in range(size):\n",
    "        category_input = widgets.Text(value=str(categories[i]) if i < len(categories) else \"\", placeholder=\"Category Name\")\n",
    "        data_inputs = [widgets.FloatText(value=data[i, j] if i < len(categories) and j < len(categories) else 0,\n",
    "                                       layout=widgets.Layout(width=\"70px\")) for j in range(size)]\n",
    "        row = [category_input] + data_inputs\n",
    "        rows.append(widgets.HBox(row))\n",
    "    return widgets.VBox(rows)\n",
    "\n",
    "# Matrix widgets stored by feature\n",
    "matrices = {}\n",
    "\n",
    "# Output widget to display matrices\n",
    "matrix_output = widgets.Output()\n",
    "\n",
    "# Dropdown for selecting features\n",
    "feature_dropdown = widgets.Dropdown(\n",
    "    options=list(features.keys()),\n",
    "    description=\"Feature:\",\n",
    "    layout={\"width\": \"max-content\"}\n",
    ")\n",
    "\n",
    "# Integer text box for adjusting the size of the matrix\n",
    "size_text_box = widgets.IntText(\n",
    "    value=min(matrix_sizes.values()),  # Start with the smallest matrix size\n",
    "    description=\"Matrix Size:\",\n",
    "    layout={\"width\": \"max-content\"}\n",
    ")\n",
    "\n",
    "# Function to update matrix display based on feature and size\n",
    "def update_matrix_display(feature, size):\n",
    "    categories = features[feature][:size]  # Get up to 'size' categories\n",
    "    data = matrix_data[feature][:size, :size]  # Get current data\n",
    "    matrix_widget = create_matrix_widget(size, categories, data)\n",
    "    matrices[feature] = matrix_widget  # Update stored widget\n",
    "    with matrix_output:\n",
    "        matrix_output.clear_output()\n",
    "        display(matrix_widget)\n",
    "\n",
    "# Button to save the updates\n",
    "submit_matrix_button = widgets.Button(description=\"Submit Changes\")\n",
    "\n",
    "# Handle submit button click\n",
    "def on_submit_matrix_button_clicked(b):\n",
    "    global data_frame\n",
    "    \n",
    "    feature = feature_dropdown.value\n",
    "    size = size_text_box.value\n",
    "    new_categories = []\n",
    "    new_data = np.zeros((size, size), dtype=float)\n",
    "    for i, row in enumerate(matrices[feature].children):\n",
    "        new_categories.append(row.children[0].value)  # Update category names\n",
    "        for j in range(1, len(row.children)):\n",
    "            new_data[i, j-1] = row.children[j].value  # Update data\n",
    "    \n",
    "    for old_category, new_category in zip(features[feature], new_categories):\n",
    "        data_frame[feature] = data_frame[feature].replace(old_category, new_category)\n",
    "    features[feature] = new_categories  # Save new categories\n",
    "    \n",
    "    matrix_data[feature] = new_data  # Save new data\n",
    "\n",
    "submit_matrix_button.on_click(on_submit_matrix_button_clicked)\n",
    "\n",
    "# Handle feature and size changes\n",
    "def on_feature_change(change):\n",
    "    feature = change[\"new\"]\n",
    "    size = matrix_sizes[feature]\n",
    "    size_text_box.value = size  # Update text box to current feature's matrix size\n",
    "    update_matrix_display(feature, size)\n",
    "\n",
    "def on_size_change(change):\n",
    "    size = change[\"new\"]\n",
    "    feature = feature_dropdown.value\n",
    "    matrix_sizes[feature] = size  # Update size in storage\n",
    "    update_matrix_display(feature, size)\n",
    "\n",
    "feature_dropdown.observe(on_feature_change, names=\"value\")\n",
    "size_text_box.observe(on_size_change, names=\"value\")\n",
    "\n",
    "###################################################################################################\n",
    "\n",
    "box = widgets.VBox([source_samples_count, output_count,\n",
    "                    widgets.VBox([feature_dropdown, size_text_box, matrix_output, submit_matrix_button]),\n",
    "                    submit_button, output])\n",
    "on_feature_change({\"new\": feature_dropdown.value})  # Initialize display with the first feature\n",
    "\n",
    "display(box)"
   ]
  },
  {
   "cell_type": "markdown",
   "id": "ba4184ba526b2be6",
   "metadata": {
    "collapsed": false,
    "jupyter": {
     "outputs_hidden": false
    }
   },
   "source": [
    "## Feature Augmentation"
   ]
  },
  {
   "cell_type": "code",
   "execution_count": 50,
   "id": "c979790ee65a0f7f",
   "metadata": {
    "collapsed": false,
    "jupyter": {
     "outputs_hidden": false
    }
   },
   "outputs": [],
   "source": [
    "def apply_transformation(data: pd.DataFrame, column: str, transformation: Callable):\n",
    "    \"\"\"\n",
    "    Apply a restriction to the data\n",
    "\n",
    "    :param data: The data to apply the restriction to\n",
    "    :param column: The column to apply the restriction to\n",
    "    :param transformation: The restriction function to apply (e.g. lambda x: x if x > 0 else 0)\n",
    "    :return: The data with the restriction applied\n",
    "    \"\"\"\n",
    "\n",
    "    data[column] = data[column].apply(transformation)\n",
    "    return data\n",
    "\n",
    "\n",
    "def add_feature(data: pd.DataFrame, base_features: list[str], new_feature_name: str, feature_function: Callable):\n",
    "    \"\"\"\n",
    "    Add a new feature to the data\n",
    "\n",
    "    :param data: The data to add the feature to\n",
    "    :param base_features: The features to base the new feature on\n",
    "    :param new_feature_name: The name of the new feature\n",
    "    :param feature_function: The function to calculate the new feature\n",
    "    :return: The data with the new feature added\n",
    "    \"\"\"\n",
    "\n",
    "    data[new_feature_name] = data[base_features].apply(feature_function, axis=1)\n",
    "    return data\n",
    "\n",
    "\n",
    "def conditional_sample(distribution: Callable, condition: Callable, *args, **kwargs):\n",
    "    \"\"\"\n",
    "    Draws a sample from a distribution with a given arguments, while satisfying a condition\n",
    "\n",
    "    :param distribution: The distribution to sample from\n",
    "    :param condition: The condition to satisfy\n",
    "    :return:\n",
    "    \"\"\"\n",
    "    sample = distribution(*args, **kwargs)\n",
    "    while not condition(sample):\n",
    "        sample = distribution(*args, **kwargs)\n",
    "\n",
    "    return sample\n",
    "\n",
    "\n",
    "def conditional_range_sample(distribution: Callable, min_value: float, max_value: float, *args, **kwargs):\n",
    "    \"\"\"\n",
    "    Draws a sample from a distribution with a given arguments, while satisfying a condition\n",
    "\n",
    "    :param distribution: The distribution to sample from\n",
    "    :param min_value: The minimum value to satisfy\n",
    "    :param max_value: The maximum value to satisfy\n",
    "    :return:\n",
    "    \"\"\"\n",
    "    return conditional_sample(distribution, lambda x: min_value <= x < max_value, *args, **kwargs)"
   ]
  },
  {
   "cell_type": "markdown",
   "id": "da841514fa18467a",
   "metadata": {
    "collapsed": false,
    "jupyter": {
     "outputs_hidden": false
    }
   },
   "source": [
    "## Restrictions and Missing Data "
   ]
  },
  {
   "cell_type": "code",
   "execution_count": null,
   "id": "a0e85e962ccddab2",
   "metadata": {
    "collapsed": false,
    "jupyter": {
     "outputs_hidden": false
    }
   },
   "outputs": [],
   "source": []
  }
 ],
 "metadata": {
  "kernelspec": {
   "display_name": "Python 3 (ipykernel)",
   "language": "python",
   "name": "python3"
  },
  "language_info": {
   "codemirror_mode": {
    "name": "ipython",
    "version": 3
   },
   "file_extension": ".py",
   "mimetype": "text/x-python",
   "name": "python",
   "nbconvert_exporter": "python",
   "pygments_lexer": "ipython3",
   "version": "3.9.13"
  }
 },
 "nbformat": 4,
 "nbformat_minor": 5
}
